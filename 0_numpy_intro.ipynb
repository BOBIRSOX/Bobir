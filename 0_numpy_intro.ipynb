{
  "nbformat": 4,
  "nbformat_minor": 0,
  "metadata": {
    "colab": {
      "provenance": [],
      "authorship_tag": "ABX9TyNzlTzcElwDvTmKME74Tymy",
      "include_colab_link": true
    },
    "kernelspec": {
      "name": "python3",
      "display_name": "Python 3"
    },
    "language_info": {
      "name": "python"
    }
  },
  "cells": [
    {
      "cell_type": "markdown",
      "metadata": {
        "id": "view-in-github",
        "colab_type": "text"
      },
      "source": [
        "<a href=\"https://colab.research.google.com/github/BOBIRSOX/Bobir/blob/main/0_numpy_intro.ipynb\" target=\"_parent\"><img src=\"https://colab.research.google.com/assets/colab-badge.svg\" alt=\"Open In Colab\"/></a>"
      ]
    },
    {
      "cell_type": "code",
      "source": [
        "import numpy as np\n"
      ],
      "metadata": {
        "id": "Zyl2zxVmQ-PF"
      },
      "execution_count": 4,
      "outputs": []
    },
    {
      "cell_type": "code",
      "source": [
        "my_list = list(range(100000)) # python list 0~99999 -->Normal\n",
        "my_array = np.array(range(100000)) #numpy array(massiv) 0~99999 --> Vektorlashgan"
      ],
      "metadata": {
        "id": "-yaSNHIERk6P"
      },
      "execution_count": 6,
      "outputs": []
    },
    {
      "cell_type": "code",
      "source": [
        "%time for _ in range(10): [x * 2 for x in my_list] #python list -->Normal"
      ],
      "metadata": {
        "colab": {
          "base_uri": "https://localhost:8080/"
        },
        "id": "PvKEb95tRuiK",
        "outputId": "9a127324-00a1-4470-8310-00b9d7af3634"
      },
      "execution_count": 7,
      "outputs": [
        {
          "output_type": "stream",
          "name": "stdout",
          "text": [
            "CPU times: user 69.3 ms, sys: 5 ms, total: 74.3 ms\n",
            "Wall time: 74.3 ms\n"
          ]
        }
      ]
    },
    {
      "cell_type": "code",
      "source": [
        "%time for _ in range(10): my_array * 2 #numpy array(massiv) --> Vektorlashgan"
      ],
      "metadata": {
        "colab": {
          "base_uri": "https://localhost:8080/"
        },
        "id": "xXG0j5bgST7i",
        "outputId": "b2aaa35c-d388-4c19-cef2-b019163a0d0b"
      },
      "execution_count": 8,
      "outputs": [
        {
          "output_type": "stream",
          "name": "stdout",
          "text": [
            "CPU times: user 1.53 ms, sys: 947 µs, total: 2.48 ms\n",
            "Wall time: 2.56 ms\n"
          ]
        }
      ]
    },
    {
      "cell_type": "code",
      "source": [
        "74.3/2.56"
      ],
      "metadata": {
        "colab": {
          "base_uri": "https://localhost:8080/"
        },
        "id": "7iHJsoY4SdL-",
        "outputId": "9c8f423f-a281-4480-ac92-5c746b47d070"
      },
      "execution_count": 9,
      "outputs": [
        {
          "output_type": "execute_result",
          "data": {
            "text/plain": [
              "29.0234375"
            ]
          },
          "metadata": {},
          "execution_count": 9
        }
      ]
    },
    {
      "cell_type": "code",
      "source": [],
      "metadata": {
        "id": "XHtrEVE_Snyd"
      },
      "execution_count": null,
      "outputs": []
    }
  ]
}